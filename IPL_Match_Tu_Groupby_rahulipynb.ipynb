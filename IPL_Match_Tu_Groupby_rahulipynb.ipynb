{
  "nbformat": 4,
  "nbformat_minor": 0,
  "metadata": {
    "colab": {
      "provenance": [],
      "collapsed_sections": []
    },
    "kernelspec": {
      "name": "python3",
      "display_name": "Python 3"
    },
    "language_info": {
      "name": "python"
    }
  },
  "cells": [
    {
      "cell_type": "code",
      "execution_count": null,
      "metadata": {
        "id": "CsMnvqtL7I2R"
      },
      "outputs": [],
      "source": [
        "import pandas as pd\n",
        "import numpy as np"
      ]
    },
    {
      "cell_type": "code",
      "source": [],
      "metadata": {
        "id": "WHCkE1KCBXwq"
      },
      "execution_count": null,
      "outputs": []
    },
    {
      "cell_type": "code",
      "source": [
        "from google.colab import drive\n",
        "drive.mount('/content/drive')"
      ],
      "metadata": {
        "colab": {
          "base_uri": "https://localhost:8080/"
        },
        "id": "dXMvihs3BcOk",
        "outputId": "00a2f22b-80c9-4c3c-9d66-608e9fdfa037"
      },
      "execution_count": null,
      "outputs": [
        {
          "output_type": "stream",
          "name": "stdout",
          "text": [
            "Mounted at /content/drive\n"
          ]
        }
      ]
    },
    {
      "cell_type": "code",
      "source": [
        "delivery=pd.read_csv(\"/content/drive/MyDrive/Data/deliveries.csv\")"
      ],
      "metadata": {
        "id": "1LmIQamJBeFD"
      },
      "execution_count": null,
      "outputs": []
    },
    {
      "cell_type": "code",
      "source": [
        "match=pd.read_csv(\"/content/drive/MyDrive/Data/matches - matches.csv\")"
      ],
      "metadata": {
        "id": "a3ayxgjgk4Yp"
      },
      "execution_count": null,
      "outputs": []
    },
    {
      "cell_type": "code",
      "source": [
        "delivery.info()"
      ],
      "metadata": {
        "colab": {
          "base_uri": "https://localhost:8080/"
        },
        "id": "ZurltOHilHo-",
        "outputId": "74095a4e-4011-4780-9e10-843d0b9a63ef"
      },
      "execution_count": null,
      "outputs": [
        {
          "output_type": "stream",
          "name": "stdout",
          "text": [
            "<class 'pandas.core.frame.DataFrame'>\n",
            "RangeIndex: 150460 entries, 0 to 150459\n",
            "Data columns (total 21 columns):\n",
            " #   Column            Non-Null Count   Dtype \n",
            "---  ------            --------------   ----- \n",
            " 0   match_id          150460 non-null  int64 \n",
            " 1   inning            150460 non-null  int64 \n",
            " 2   batting_team      150460 non-null  object\n",
            " 3   bowling_team      150460 non-null  object\n",
            " 4   over              150460 non-null  int64 \n",
            " 5   ball              150460 non-null  int64 \n",
            " 6   batsman           150460 non-null  object\n",
            " 7   non_striker       150460 non-null  object\n",
            " 8   bowler            150460 non-null  object\n",
            " 9   is_super_over     150460 non-null  int64 \n",
            " 10  wide_runs         150460 non-null  int64 \n",
            " 11  bye_runs          150460 non-null  int64 \n",
            " 12  legbye_runs       150460 non-null  int64 \n",
            " 13  noball_runs       150460 non-null  int64 \n",
            " 14  penalty_runs      150460 non-null  int64 \n",
            " 15  batsman_runs      150460 non-null  int64 \n",
            " 16  extra_runs        150460 non-null  int64 \n",
            " 17  total_runs        150460 non-null  int64 \n",
            " 18  player_dismissed  7438 non-null    object\n",
            " 19  dismissal_kind    7438 non-null    object\n",
            " 20  fielder           5369 non-null    object\n",
            "dtypes: int64(13), object(8)\n",
            "memory usage: 24.1+ MB\n"
          ]
        }
      ]
    },
    {
      "cell_type": "code",
      "source": [
        "match.info()"
      ],
      "metadata": {
        "colab": {
          "base_uri": "https://localhost:8080/"
        },
        "id": "R7amDwOOlOdp",
        "outputId": "404ab1d2-acce-4d74-905b-7c65efa097fe"
      },
      "execution_count": null,
      "outputs": [
        {
          "output_type": "stream",
          "name": "stdout",
          "text": [
            "<class 'pandas.core.frame.DataFrame'>\n",
            "RangeIndex: 636 entries, 0 to 635\n",
            "Data columns (total 18 columns):\n",
            " #   Column           Non-Null Count  Dtype  \n",
            "---  ------           --------------  -----  \n",
            " 0   id               636 non-null    int64  \n",
            " 1   season           636 non-null    int64  \n",
            " 2   city             629 non-null    object \n",
            " 3   date             636 non-null    object \n",
            " 4   team1            636 non-null    object \n",
            " 5   team2            636 non-null    object \n",
            " 6   toss_winner      636 non-null    object \n",
            " 7   toss_decision    636 non-null    object \n",
            " 8   result           636 non-null    object \n",
            " 9   dl_applied       636 non-null    int64  \n",
            " 10  winner           633 non-null    object \n",
            " 11  win_by_runs      636 non-null    int64  \n",
            " 12  win_by_wickets   636 non-null    int64  \n",
            " 13  player_of_match  633 non-null    object \n",
            " 14  venue            636 non-null    object \n",
            " 15  umpire1          635 non-null    object \n",
            " 16  umpire2          635 non-null    object \n",
            " 17  umpire3          0 non-null      float64\n",
            "dtypes: float64(1), int64(5), object(12)\n",
            "memory usage: 89.6+ KB\n"
          ]
        }
      ]
    },
    {
      "cell_type": "code",
      "source": [
        "# matchs=list(match[\"city\"].unique())\n",
        "# print(matchs)\n",
        "match['city'].value_counts().index"
      ],
      "metadata": {
        "colab": {
          "base_uri": "https://localhost:8080/"
        },
        "id": "hiIMstmMsBWI",
        "outputId": "9b1ba4c8-3b64-4524-9066-e279c2d1a4f9"
      },
      "execution_count": null,
      "outputs": [
        {
          "output_type": "execute_result",
          "data": {
            "text/plain": [
              "Index(['Mumbai', 'Bangalore', 'Kolkata', 'Delhi', 'Hyderabad', 'Chennai',\n",
              "       'Chandigarh', 'Jaipur', 'Pune', 'Durban', 'Ahmedabad', 'Centurion',\n",
              "       'Visakhapatnam', 'Rajkot', 'Dharamsala', 'Johannesburg', 'Cape Town',\n",
              "       'Abu Dhabi', 'Ranchi', 'Port Elizabeth', 'Cuttack', 'Raipur', 'Sharjah',\n",
              "       'Kochi', 'Indore', 'Kanpur', 'Nagpur', 'Kimberley', 'East London',\n",
              "       'Bloemfontein'],\n",
              "      dtype='object')"
            ]
          },
          "metadata": {},
          "execution_count": 32
        }
      ]
    },
    {
      "cell_type": "code",
      "source": [
        "#delivery.head(2)\n",
        "delivery.sort_values(\"batsman\")"
      ],
      "metadata": {
        "colab": {
          "base_uri": "https://localhost:8080/",
          "height": 713
        },
        "id": "sIvzuXjOlgge",
        "outputId": "efd9b526-94cd-4f19-8932-2d80eaef2eff"
      },
      "execution_count": null,
      "outputs": [
        {
          "output_type": "execute_result",
          "data": {
            "text/plain": [
              "        match_id  inning                 batting_team  \\\n",
              "81618        346       1              Deccan Chargers   \n",
              "138074       584       1          Sunrisers Hyderabad   \n",
              "81614        346       1              Deccan Chargers   \n",
              "135261       572       1          Sunrisers Hyderabad   \n",
              "135259       572       1          Sunrisers Hyderabad   \n",
              "...          ...     ...                          ...   \n",
              "111417       470       1               Mumbai Indians   \n",
              "111418       470       1               Mumbai Indians   \n",
              "44200        188       1               Mumbai Indians   \n",
              "136691       578       1             Delhi Daredevils   \n",
              "14062         60       2  Royal Challengers Bangalore   \n",
              "\n",
              "                       bowling_team  over  ball         batsman  \\\n",
              "81618                Mumbai Indians    14     6  A Ashish Reddy   \n",
              "138074        Kolkata Knight Riders    20     5  A Ashish Reddy   \n",
              "81614                Mumbai Indians    14     2  A Ashish Reddy   \n",
              "135261               Mumbai Indians    15     5  A Ashish Reddy   \n",
              "135259               Mumbai Indians    15     3  A Ashish Reddy   \n",
              "...                             ...   ...   ...             ...   \n",
              "111417          Chennai Super Kings    20     5          Z Khan   \n",
              "111418          Chennai Super Kings    20     6          Z Khan   \n",
              "44200   Royal Challengers Bangalore    19     1          Z Khan   \n",
              "136691        Kolkata Knight Riders    18     4          Z Khan   \n",
              "14062         Kolkata Knight Riders    12     4          Z Khan   \n",
              "\n",
              "            non_striker           bowler  is_super_over  ...  bye_runs  \\\n",
              "81618         JP Duminy      RJ Peterson              0  ...         0   \n",
              "138074        KV Sharma       AD Russell              0  ...         0   \n",
              "81614         JP Duminy      RJ Peterson              0  ...         0   \n",
              "135261        KV Sharma  Harbhajan Singh              0  ...         0   \n",
              "135259        KV Sharma  Harbhajan Singh              0  ...         0   \n",
              "...                 ...              ...            ...  ...       ...   \n",
              "111417        CM Gautam    BW Hilfenhaus              0  ...         0   \n",
              "111418        CM Gautam    BW Hilfenhaus              0  ...         1   \n",
              "44200   Harbhajan Singh        JH Kallis              0  ...         0   \n",
              "136691  NM Coulter-Nile      JW Hastings              0  ...         0   \n",
              "14062           P Kumar       SC Ganguly              0  ...         0   \n",
              "\n",
              "        legbye_runs  noball_runs  penalty_runs  batsman_runs  extra_runs  \\\n",
              "81618             0            0             0             6           0   \n",
              "138074            0            0             0             1           0   \n",
              "81614             0            0             0             0           0   \n",
              "135261            0            0             0             6           0   \n",
              "135259            0            0             0             1           0   \n",
              "...             ...          ...           ...           ...         ...   \n",
              "111417            0            0             0             6           0   \n",
              "111418            0            0             0             0           1   \n",
              "44200             0            0             0             0           0   \n",
              "136691            0            0             0             0           0   \n",
              "14062             0            0             0             1           0   \n",
              "\n",
              "        total_runs  player_dismissed dismissal_kind          fielder  \n",
              "81618            6               NaN            NaN              NaN  \n",
              "138074           1    A Ashish Reddy        run out  Shakib Al Hasan  \n",
              "81614            0               NaN            NaN              NaN  \n",
              "135261           6               NaN            NaN              NaN  \n",
              "135259           1               NaN            NaN              NaN  \n",
              "...            ...               ...            ...              ...  \n",
              "111417           6               NaN            NaN              NaN  \n",
              "111418           1               NaN            NaN              NaN  \n",
              "44200            0               NaN            NaN              NaN  \n",
              "136691           0            Z Khan         caught        MK Pandey  \n",
              "14062            1               NaN            NaN              NaN  \n",
              "\n",
              "[150460 rows x 21 columns]"
            ],
            "text/html": [
              "\n",
              "  <div id=\"df-f5184c20-dadb-422a-a3e2-59e144c24401\">\n",
              "    <div class=\"colab-df-container\">\n",
              "      <div>\n",
              "<style scoped>\n",
              "    .dataframe tbody tr th:only-of-type {\n",
              "        vertical-align: middle;\n",
              "    }\n",
              "\n",
              "    .dataframe tbody tr th {\n",
              "        vertical-align: top;\n",
              "    }\n",
              "\n",
              "    .dataframe thead th {\n",
              "        text-align: right;\n",
              "    }\n",
              "</style>\n",
              "<table border=\"1\" class=\"dataframe\">\n",
              "  <thead>\n",
              "    <tr style=\"text-align: right;\">\n",
              "      <th></th>\n",
              "      <th>match_id</th>\n",
              "      <th>inning</th>\n",
              "      <th>batting_team</th>\n",
              "      <th>bowling_team</th>\n",
              "      <th>over</th>\n",
              "      <th>ball</th>\n",
              "      <th>batsman</th>\n",
              "      <th>non_striker</th>\n",
              "      <th>bowler</th>\n",
              "      <th>is_super_over</th>\n",
              "      <th>...</th>\n",
              "      <th>bye_runs</th>\n",
              "      <th>legbye_runs</th>\n",
              "      <th>noball_runs</th>\n",
              "      <th>penalty_runs</th>\n",
              "      <th>batsman_runs</th>\n",
              "      <th>extra_runs</th>\n",
              "      <th>total_runs</th>\n",
              "      <th>player_dismissed</th>\n",
              "      <th>dismissal_kind</th>\n",
              "      <th>fielder</th>\n",
              "    </tr>\n",
              "  </thead>\n",
              "  <tbody>\n",
              "    <tr>\n",
              "      <th>81618</th>\n",
              "      <td>346</td>\n",
              "      <td>1</td>\n",
              "      <td>Deccan Chargers</td>\n",
              "      <td>Mumbai Indians</td>\n",
              "      <td>14</td>\n",
              "      <td>6</td>\n",
              "      <td>A Ashish Reddy</td>\n",
              "      <td>JP Duminy</td>\n",
              "      <td>RJ Peterson</td>\n",
              "      <td>0</td>\n",
              "      <td>...</td>\n",
              "      <td>0</td>\n",
              "      <td>0</td>\n",
              "      <td>0</td>\n",
              "      <td>0</td>\n",
              "      <td>6</td>\n",
              "      <td>0</td>\n",
              "      <td>6</td>\n",
              "      <td>NaN</td>\n",
              "      <td>NaN</td>\n",
              "      <td>NaN</td>\n",
              "    </tr>\n",
              "    <tr>\n",
              "      <th>138074</th>\n",
              "      <td>584</td>\n",
              "      <td>1</td>\n",
              "      <td>Sunrisers Hyderabad</td>\n",
              "      <td>Kolkata Knight Riders</td>\n",
              "      <td>20</td>\n",
              "      <td>5</td>\n",
              "      <td>A Ashish Reddy</td>\n",
              "      <td>KV Sharma</td>\n",
              "      <td>AD Russell</td>\n",
              "      <td>0</td>\n",
              "      <td>...</td>\n",
              "      <td>0</td>\n",
              "      <td>0</td>\n",
              "      <td>0</td>\n",
              "      <td>0</td>\n",
              "      <td>1</td>\n",
              "      <td>0</td>\n",
              "      <td>1</td>\n",
              "      <td>A Ashish Reddy</td>\n",
              "      <td>run out</td>\n",
              "      <td>Shakib Al Hasan</td>\n",
              "    </tr>\n",
              "    <tr>\n",
              "      <th>81614</th>\n",
              "      <td>346</td>\n",
              "      <td>1</td>\n",
              "      <td>Deccan Chargers</td>\n",
              "      <td>Mumbai Indians</td>\n",
              "      <td>14</td>\n",
              "      <td>2</td>\n",
              "      <td>A Ashish Reddy</td>\n",
              "      <td>JP Duminy</td>\n",
              "      <td>RJ Peterson</td>\n",
              "      <td>0</td>\n",
              "      <td>...</td>\n",
              "      <td>0</td>\n",
              "      <td>0</td>\n",
              "      <td>0</td>\n",
              "      <td>0</td>\n",
              "      <td>0</td>\n",
              "      <td>0</td>\n",
              "      <td>0</td>\n",
              "      <td>NaN</td>\n",
              "      <td>NaN</td>\n",
              "      <td>NaN</td>\n",
              "    </tr>\n",
              "    <tr>\n",
              "      <th>135261</th>\n",
              "      <td>572</td>\n",
              "      <td>1</td>\n",
              "      <td>Sunrisers Hyderabad</td>\n",
              "      <td>Mumbai Indians</td>\n",
              "      <td>15</td>\n",
              "      <td>5</td>\n",
              "      <td>A Ashish Reddy</td>\n",
              "      <td>KV Sharma</td>\n",
              "      <td>Harbhajan Singh</td>\n",
              "      <td>0</td>\n",
              "      <td>...</td>\n",
              "      <td>0</td>\n",
              "      <td>0</td>\n",
              "      <td>0</td>\n",
              "      <td>0</td>\n",
              "      <td>6</td>\n",
              "      <td>0</td>\n",
              "      <td>6</td>\n",
              "      <td>NaN</td>\n",
              "      <td>NaN</td>\n",
              "      <td>NaN</td>\n",
              "    </tr>\n",
              "    <tr>\n",
              "      <th>135259</th>\n",
              "      <td>572</td>\n",
              "      <td>1</td>\n",
              "      <td>Sunrisers Hyderabad</td>\n",
              "      <td>Mumbai Indians</td>\n",
              "      <td>15</td>\n",
              "      <td>3</td>\n",
              "      <td>A Ashish Reddy</td>\n",
              "      <td>KV Sharma</td>\n",
              "      <td>Harbhajan Singh</td>\n",
              "      <td>0</td>\n",
              "      <td>...</td>\n",
              "      <td>0</td>\n",
              "      <td>0</td>\n",
              "      <td>0</td>\n",
              "      <td>0</td>\n",
              "      <td>1</td>\n",
              "      <td>0</td>\n",
              "      <td>1</td>\n",
              "      <td>NaN</td>\n",
              "      <td>NaN</td>\n",
              "      <td>NaN</td>\n",
              "    </tr>\n",
              "    <tr>\n",
              "      <th>...</th>\n",
              "      <td>...</td>\n",
              "      <td>...</td>\n",
              "      <td>...</td>\n",
              "      <td>...</td>\n",
              "      <td>...</td>\n",
              "      <td>...</td>\n",
              "      <td>...</td>\n",
              "      <td>...</td>\n",
              "      <td>...</td>\n",
              "      <td>...</td>\n",
              "      <td>...</td>\n",
              "      <td>...</td>\n",
              "      <td>...</td>\n",
              "      <td>...</td>\n",
              "      <td>...</td>\n",
              "      <td>...</td>\n",
              "      <td>...</td>\n",
              "      <td>...</td>\n",
              "      <td>...</td>\n",
              "      <td>...</td>\n",
              "      <td>...</td>\n",
              "    </tr>\n",
              "    <tr>\n",
              "      <th>111417</th>\n",
              "      <td>470</td>\n",
              "      <td>1</td>\n",
              "      <td>Mumbai Indians</td>\n",
              "      <td>Chennai Super Kings</td>\n",
              "      <td>20</td>\n",
              "      <td>5</td>\n",
              "      <td>Z Khan</td>\n",
              "      <td>CM Gautam</td>\n",
              "      <td>BW Hilfenhaus</td>\n",
              "      <td>0</td>\n",
              "      <td>...</td>\n",
              "      <td>0</td>\n",
              "      <td>0</td>\n",
              "      <td>0</td>\n",
              "      <td>0</td>\n",
              "      <td>6</td>\n",
              "      <td>0</td>\n",
              "      <td>6</td>\n",
              "      <td>NaN</td>\n",
              "      <td>NaN</td>\n",
              "      <td>NaN</td>\n",
              "    </tr>\n",
              "    <tr>\n",
              "      <th>111418</th>\n",
              "      <td>470</td>\n",
              "      <td>1</td>\n",
              "      <td>Mumbai Indians</td>\n",
              "      <td>Chennai Super Kings</td>\n",
              "      <td>20</td>\n",
              "      <td>6</td>\n",
              "      <td>Z Khan</td>\n",
              "      <td>CM Gautam</td>\n",
              "      <td>BW Hilfenhaus</td>\n",
              "      <td>0</td>\n",
              "      <td>...</td>\n",
              "      <td>1</td>\n",
              "      <td>0</td>\n",
              "      <td>0</td>\n",
              "      <td>0</td>\n",
              "      <td>0</td>\n",
              "      <td>1</td>\n",
              "      <td>1</td>\n",
              "      <td>NaN</td>\n",
              "      <td>NaN</td>\n",
              "      <td>NaN</td>\n",
              "    </tr>\n",
              "    <tr>\n",
              "      <th>44200</th>\n",
              "      <td>188</td>\n",
              "      <td>1</td>\n",
              "      <td>Mumbai Indians</td>\n",
              "      <td>Royal Challengers Bangalore</td>\n",
              "      <td>19</td>\n",
              "      <td>1</td>\n",
              "      <td>Z Khan</td>\n",
              "      <td>Harbhajan Singh</td>\n",
              "      <td>JH Kallis</td>\n",
              "      <td>0</td>\n",
              "      <td>...</td>\n",
              "      <td>0</td>\n",
              "      <td>0</td>\n",
              "      <td>0</td>\n",
              "      <td>0</td>\n",
              "      <td>0</td>\n",
              "      <td>0</td>\n",
              "      <td>0</td>\n",
              "      <td>NaN</td>\n",
              "      <td>NaN</td>\n",
              "      <td>NaN</td>\n",
              "    </tr>\n",
              "    <tr>\n",
              "      <th>136691</th>\n",
              "      <td>578</td>\n",
              "      <td>1</td>\n",
              "      <td>Delhi Daredevils</td>\n",
              "      <td>Kolkata Knight Riders</td>\n",
              "      <td>18</td>\n",
              "      <td>4</td>\n",
              "      <td>Z Khan</td>\n",
              "      <td>NM Coulter-Nile</td>\n",
              "      <td>JW Hastings</td>\n",
              "      <td>0</td>\n",
              "      <td>...</td>\n",
              "      <td>0</td>\n",
              "      <td>0</td>\n",
              "      <td>0</td>\n",
              "      <td>0</td>\n",
              "      <td>0</td>\n",
              "      <td>0</td>\n",
              "      <td>0</td>\n",
              "      <td>Z Khan</td>\n",
              "      <td>caught</td>\n",
              "      <td>MK Pandey</td>\n",
              "    </tr>\n",
              "    <tr>\n",
              "      <th>14062</th>\n",
              "      <td>60</td>\n",
              "      <td>2</td>\n",
              "      <td>Royal Challengers Bangalore</td>\n",
              "      <td>Kolkata Knight Riders</td>\n",
              "      <td>12</td>\n",
              "      <td>4</td>\n",
              "      <td>Z Khan</td>\n",
              "      <td>P Kumar</td>\n",
              "      <td>SC Ganguly</td>\n",
              "      <td>0</td>\n",
              "      <td>...</td>\n",
              "      <td>0</td>\n",
              "      <td>0</td>\n",
              "      <td>0</td>\n",
              "      <td>0</td>\n",
              "      <td>1</td>\n",
              "      <td>0</td>\n",
              "      <td>1</td>\n",
              "      <td>NaN</td>\n",
              "      <td>NaN</td>\n",
              "      <td>NaN</td>\n",
              "    </tr>\n",
              "  </tbody>\n",
              "</table>\n",
              "<p>150460 rows × 21 columns</p>\n",
              "</div>\n",
              "      <button class=\"colab-df-convert\" onclick=\"convertToInteractive('df-f5184c20-dadb-422a-a3e2-59e144c24401')\"\n",
              "              title=\"Convert this dataframe to an interactive table.\"\n",
              "              style=\"display:none;\">\n",
              "        \n",
              "  <svg xmlns=\"http://www.w3.org/2000/svg\" height=\"24px\"viewBox=\"0 0 24 24\"\n",
              "       width=\"24px\">\n",
              "    <path d=\"M0 0h24v24H0V0z\" fill=\"none\"/>\n",
              "    <path d=\"M18.56 5.44l.94 2.06.94-2.06 2.06-.94-2.06-.94-.94-2.06-.94 2.06-2.06.94zm-11 1L8.5 8.5l.94-2.06 2.06-.94-2.06-.94L8.5 2.5l-.94 2.06-2.06.94zm10 10l.94 2.06.94-2.06 2.06-.94-2.06-.94-.94-2.06-.94 2.06-2.06.94z\"/><path d=\"M17.41 7.96l-1.37-1.37c-.4-.4-.92-.59-1.43-.59-.52 0-1.04.2-1.43.59L10.3 9.45l-7.72 7.72c-.78.78-.78 2.05 0 2.83L4 21.41c.39.39.9.59 1.41.59.51 0 1.02-.2 1.41-.59l7.78-7.78 2.81-2.81c.8-.78.8-2.07 0-2.86zM5.41 20L4 18.59l7.72-7.72 1.47 1.35L5.41 20z\"/>\n",
              "  </svg>\n",
              "      </button>\n",
              "      \n",
              "  <style>\n",
              "    .colab-df-container {\n",
              "      display:flex;\n",
              "      flex-wrap:wrap;\n",
              "      gap: 12px;\n",
              "    }\n",
              "\n",
              "    .colab-df-convert {\n",
              "      background-color: #E8F0FE;\n",
              "      border: none;\n",
              "      border-radius: 50%;\n",
              "      cursor: pointer;\n",
              "      display: none;\n",
              "      fill: #1967D2;\n",
              "      height: 32px;\n",
              "      padding: 0 0 0 0;\n",
              "      width: 32px;\n",
              "    }\n",
              "\n",
              "    .colab-df-convert:hover {\n",
              "      background-color: #E2EBFA;\n",
              "      box-shadow: 0px 1px 2px rgba(60, 64, 67, 0.3), 0px 1px 3px 1px rgba(60, 64, 67, 0.15);\n",
              "      fill: #174EA6;\n",
              "    }\n",
              "\n",
              "    [theme=dark] .colab-df-convert {\n",
              "      background-color: #3B4455;\n",
              "      fill: #D2E3FC;\n",
              "    }\n",
              "\n",
              "    [theme=dark] .colab-df-convert:hover {\n",
              "      background-color: #434B5C;\n",
              "      box-shadow: 0px 1px 3px 1px rgba(0, 0, 0, 0.15);\n",
              "      filter: drop-shadow(0px 1px 2px rgba(0, 0, 0, 0.3));\n",
              "      fill: #FFFFFF;\n",
              "    }\n",
              "  </style>\n",
              "\n",
              "      <script>\n",
              "        const buttonEl =\n",
              "          document.querySelector('#df-f5184c20-dadb-422a-a3e2-59e144c24401 button.colab-df-convert');\n",
              "        buttonEl.style.display =\n",
              "          google.colab.kernel.accessAllowed ? 'block' : 'none';\n",
              "\n",
              "        async function convertToInteractive(key) {\n",
              "          const element = document.querySelector('#df-f5184c20-dadb-422a-a3e2-59e144c24401');\n",
              "          const dataTable =\n",
              "            await google.colab.kernel.invokeFunction('convertToInteractive',\n",
              "                                                     [key], {});\n",
              "          if (!dataTable) return;\n",
              "\n",
              "          const docLinkHtml = 'Like what you see? Visit the ' +\n",
              "            '<a target=\"_blank\" href=https://colab.research.google.com/notebooks/data_table.ipynb>data table notebook</a>'\n",
              "            + ' to learn more about interactive tables.';\n",
              "          element.innerHTML = '';\n",
              "          dataTable['output_type'] = 'display_data';\n",
              "          await google.colab.output.renderOutput(dataTable, element);\n",
              "          const docLink = document.createElement('div');\n",
              "          docLink.innerHTML = docLinkHtml;\n",
              "          element.appendChild(docLink);\n",
              "        }\n",
              "      </script>\n",
              "    </div>\n",
              "  </div>\n",
              "  "
            ]
          },
          "metadata": {},
          "execution_count": 9
        }
      ]
    },
    {
      "cell_type": "code",
      "source": [
        "delivery.columns"
      ],
      "metadata": {
        "id": "LwoDX2Ayta4n",
        "colab": {
          "base_uri": "https://localhost:8080/"
        },
        "outputId": "160739c8-e61a-4083-98e4-4133f2300bfe"
      },
      "execution_count": null,
      "outputs": [
        {
          "output_type": "execute_result",
          "data": {
            "text/plain": [
              "Index(['match_id', 'inning', 'batting_team', 'bowling_team', 'over', 'ball',\n",
              "       'batsman', 'non_striker', 'bowler', 'is_super_over', 'wide_runs',\n",
              "       'bye_runs', 'legbye_runs', 'noball_runs', 'penalty_runs',\n",
              "       'batsman_runs', 'extra_runs', 'total_runs', 'player_dismissed',\n",
              "       'dismissal_kind', 'fielder'],\n",
              "      dtype='object')"
            ]
          },
          "metadata": {},
          "execution_count": 10
        }
      ]
    },
    {
      "cell_type": "code",
      "source": [
        "runs=delivery.groupby(\"batsman\")"
      ],
      "metadata": {
        "id": "6Og6emOjmg0H"
      },
      "execution_count": null,
      "outputs": []
    },
    {
      "cell_type": "code",
      "source": [
        "#howmuch play ball batsman\n",
        "runs.get_group(\"SK Raina\").shape"
      ],
      "metadata": {
        "colab": {
          "base_uri": "https://localhost:8080/"
        },
        "id": "b3pbXMyanFI5",
        "outputId": "1cda68c5-2900-4202-cfca-5a0cd16b409d"
      },
      "execution_count": null,
      "outputs": [
        {
          "output_type": "execute_result",
          "data": {
            "text/plain": [
              "(3369, 21)"
            ]
          },
          "metadata": {},
          "execution_count": 11
        }
      ]
    },
    {
      "cell_type": "code",
      "source": [
        "#Each Batsman runs Highest \n",
        "runs[\"batsman_runs\"].sum().sort_values(ascending=False).head(10)"
      ],
      "metadata": {
        "id": "90HKBChwnRFZ",
        "colab": {
          "base_uri": "https://localhost:8080/"
        },
        "outputId": "2b99f4c8-16f8-4d1b-f4e2-323c5649418b"
      },
      "execution_count": null,
      "outputs": [
        {
          "output_type": "execute_result",
          "data": {
            "text/plain": [
              "batsman\n",
              "SK Raina          4548\n",
              "V Kohli           4423\n",
              "RG Sharma         4207\n",
              "G Gambhir         4132\n",
              "DA Warner         4014\n",
              "RV Uthappa        3778\n",
              "CH Gayle          3651\n",
              "S Dhawan          3561\n",
              "MS Dhoni          3560\n",
              "AB de Villiers    3486\n",
              "Name: batsman_runs, dtype: int64"
            ]
          },
          "metadata": {},
          "execution_count": 12
        }
      ]
    },
    {
      "cell_type": "code",
      "source": [
        "#find out batsman highest 6/4\n",
        "mask=delivery[\"batsman_runs\"]==6\n",
        "six=delivery[mask]\n",
        "six.shape[0]"
      ],
      "metadata": {
        "colab": {
          "base_uri": "https://localhost:8080/"
        },
        "id": "iKATk3SCnrk8",
        "outputId": "892a3361-d3f7-482a-b7d5-3d28fc874750"
      },
      "execution_count": null,
      "outputs": [
        {
          "output_type": "execute_result",
          "data": {
            "text/plain": [
              "6523"
            ]
          },
          "metadata": {},
          "execution_count": 13
        }
      ]
    },
    {
      "cell_type": "code",
      "source": [
        "six.groupby(\"batsman\")[\"batsman_runs\"].size().sort_values(ascending=False)"
      ],
      "metadata": {
        "id": "MCOdce-upv46",
        "colab": {
          "base_uri": "https://localhost:8080/"
        },
        "outputId": "d5edb59f-beb7-4ddb-ca72-5d4333f181d2"
      },
      "execution_count": null,
      "outputs": [
        {
          "output_type": "execute_result",
          "data": {
            "text/plain": [
              "batsman\n",
              "CH Gayle         266\n",
              "SK Raina         174\n",
              "RG Sharma        173\n",
              "V Kohli          160\n",
              "DA Warner        160\n",
              "                ... \n",
              "CK Langeveldt      1\n",
              "CR Woakes          1\n",
              "P Sahu             1\n",
              "DE Bollinger       1\n",
              "Basil Thampi       1\n",
              "Name: batsman_runs, Length: 301, dtype: int64"
            ]
          },
          "metadata": {},
          "execution_count": 14
        }
      ]
    },
    {
      "cell_type": "code",
      "source": [
        "#Find Out Highest Batsman run angest by team\n",
        "Highest_run=delivery[delivery[\"batsman\"]==\"V Kohli\"]\n",
        "Highest_run.groupby(\"bowling_team\")[\"batsman_runs\"].sum().sort_values(ascending=False).head(5)"
      ],
      "metadata": {
        "id": "Qq2x-eRZqkqF",
        "colab": {
          "base_uri": "https://localhost:8080/"
        },
        "outputId": "cced4564-f37e-40af-b95f-cd418873d1fd"
      },
      "execution_count": null,
      "outputs": [
        {
          "output_type": "execute_result",
          "data": {
            "text/plain": [
              "bowling_team\n",
              "Chennai Super Kings    706\n",
              "Delhi Daredevils       661\n",
              "Kings XI Punjab        483\n",
              "Mumbai Indians         447\n",
              "Sunrisers Hyderabad    439\n",
              "Name: batsman_runs, dtype: int64"
            ]
          },
          "metadata": {},
          "execution_count": 15
        }
      ]
    },
    {
      "cell_type": "code",
      "source": [
        "#with function\n",
        "def Highest_run(batsman_name):\n",
        "  Highest_run=delivery[delivery[\"batsman\"]==batsman_name]\n",
        "  return Highest_run.groupby(\"bowling_team\")[\"batsman_runs\"].sum().sort_values(ascending=False).head(5)"
      ],
      "metadata": {
        "id": "cR4DCMDvqmxQ"
      },
      "execution_count": null,
      "outputs": []
    },
    {
      "cell_type": "code",
      "source": [
        "Highest_run(\"JP Duminy\")"
      ],
      "metadata": {
        "colab": {
          "base_uri": "https://localhost:8080/"
        },
        "id": "zjJerzoFAv7K",
        "outputId": "a6a8cde1-c010-4da9-d502-6dd354655dc7"
      },
      "execution_count": null,
      "outputs": [
        {
          "output_type": "execute_result",
          "data": {
            "text/plain": [
              "bowling_team\n",
              "Royal Challengers Bangalore    403\n",
              "Rajasthan Royals               278\n",
              "Mumbai Indians                 261\n",
              "Kolkata Knight Riders          233\n",
              "Kings XI Punjab                170\n",
              "Name: batsman_runs, dtype: int64"
            ]
          },
          "metadata": {},
          "execution_count": 17
        }
      ]
    },
    {
      "cell_type": "code",
      "source": [
        "#Merge Function Use\n",
        "match.columns\n"
      ],
      "metadata": {
        "id": "1z8h2QWaA-nK",
        "colab": {
          "base_uri": "https://localhost:8080/"
        },
        "outputId": "2b270c53-1c3b-4da2-eb5c-46c3518b84f9"
      },
      "execution_count": null,
      "outputs": [
        {
          "output_type": "execute_result",
          "data": {
            "text/plain": [
              "Index(['id', 'season', 'city', 'date', 'team1', 'team2', 'toss_winner',\n",
              "       'toss_decision', 'result', 'dl_applied', 'winner', 'win_by_runs',\n",
              "       'win_by_wickets', 'player_of_match', 'venue', 'umpire1', 'umpire2',\n",
              "       'umpire3'],\n",
              "      dtype='object')"
            ]
          },
          "metadata": {},
          "execution_count": 18
        }
      ]
    },
    {
      "cell_type": "code",
      "source": [
        "delivery.columns"
      ],
      "metadata": {
        "colab": {
          "base_uri": "https://localhost:8080/"
        },
        "id": "VCbC6e4M-A4F",
        "outputId": "b38ab613-14f2-4100-92c7-5d330087b484"
      },
      "execution_count": null,
      "outputs": [
        {
          "output_type": "execute_result",
          "data": {
            "text/plain": [
              "Index(['match_id', 'inning', 'batting_team', 'bowling_team', 'over', 'ball',\n",
              "       'batsman', 'non_striker', 'bowler', 'is_super_over', 'wide_runs',\n",
              "       'bye_runs', 'legbye_runs', 'noball_runs', 'penalty_runs',\n",
              "       'batsman_runs', 'extra_runs', 'total_runs', 'player_dismissed',\n",
              "       'dismissal_kind', 'fielder'],\n",
              "      dtype='object')"
            ]
          },
          "metadata": {},
          "execution_count": 19
        }
      ]
    },
    {
      "cell_type": "code",
      "source": [
        "New_data=match.merge(delivery,left_on='id',right_on='match_id')"
      ],
      "metadata": {
        "id": "IKSsFZWX67kn"
      },
      "execution_count": null,
      "outputs": []
    },
    {
      "cell_type": "code",
      "source": [
        "print(match.shape,(\"without_merage\"))\n",
        "print(delivery.shape,(\"without_merage\"))\n",
        "print(New_data.shape,(\"with_merage\"))"
      ],
      "metadata": {
        "colab": {
          "base_uri": "https://localhost:8080/"
        },
        "id": "6Bpp5x5E8pfq",
        "outputId": "b429438e-179e-4f6f-aed3-8aff20090b80"
      },
      "execution_count": null,
      "outputs": [
        {
          "output_type": "stream",
          "name": "stdout",
          "text": [
            "(636, 18) without_merage\n",
            "(150460, 21) without_merage\n",
            "(150460, 39) with_merage\n"
          ]
        }
      ]
    },
    {
      "cell_type": "code",
      "source": [
        "# Top Batsman each season\n",
        "New_data.groupby([\"season\",\"batsman\"])[\"batsman_runs\"].sum().sort_values(ascending=False).reset_index().drop_duplicates(subset=\"season\",keep=\"first\").sort_values(\"season\")"
      ],
      "metadata": {
        "colab": {
          "base_uri": "https://localhost:8080/",
          "height": 363
        },
        "id": "WbIktjSQ-X6U",
        "outputId": "a286a9c8-9107-49f1-cb02-a397043cd398"
      },
      "execution_count": null,
      "outputs": [
        {
          "output_type": "execute_result",
          "data": {
            "text/plain": [
              "    season       batsman  batsman_runs\n",
              "10    2008      SE Marsh           616\n",
              "14    2009     ML Hayden           572\n",
              "9     2010  SR Tendulkar           618\n",
              "11    2011      CH Gayle           608\n",
              "3     2012      CH Gayle           733\n",
              "2     2013    MEK Hussey           733\n",
              "6     2014    RV Uthappa           660\n",
              "17    2015     DA Warner           562\n",
              "0     2016       V Kohli           973\n",
              "7     2017     DA Warner           641"
            ],
            "text/html": [
              "\n",
              "  <div id=\"df-5db66185-444c-4d5b-937e-10618b9e9a6d\">\n",
              "    <div class=\"colab-df-container\">\n",
              "      <div>\n",
              "<style scoped>\n",
              "    .dataframe tbody tr th:only-of-type {\n",
              "        vertical-align: middle;\n",
              "    }\n",
              "\n",
              "    .dataframe tbody tr th {\n",
              "        vertical-align: top;\n",
              "    }\n",
              "\n",
              "    .dataframe thead th {\n",
              "        text-align: right;\n",
              "    }\n",
              "</style>\n",
              "<table border=\"1\" class=\"dataframe\">\n",
              "  <thead>\n",
              "    <tr style=\"text-align: right;\">\n",
              "      <th></th>\n",
              "      <th>season</th>\n",
              "      <th>batsman</th>\n",
              "      <th>batsman_runs</th>\n",
              "    </tr>\n",
              "  </thead>\n",
              "  <tbody>\n",
              "    <tr>\n",
              "      <th>10</th>\n",
              "      <td>2008</td>\n",
              "      <td>SE Marsh</td>\n",
              "      <td>616</td>\n",
              "    </tr>\n",
              "    <tr>\n",
              "      <th>14</th>\n",
              "      <td>2009</td>\n",
              "      <td>ML Hayden</td>\n",
              "      <td>572</td>\n",
              "    </tr>\n",
              "    <tr>\n",
              "      <th>9</th>\n",
              "      <td>2010</td>\n",
              "      <td>SR Tendulkar</td>\n",
              "      <td>618</td>\n",
              "    </tr>\n",
              "    <tr>\n",
              "      <th>11</th>\n",
              "      <td>2011</td>\n",
              "      <td>CH Gayle</td>\n",
              "      <td>608</td>\n",
              "    </tr>\n",
              "    <tr>\n",
              "      <th>3</th>\n",
              "      <td>2012</td>\n",
              "      <td>CH Gayle</td>\n",
              "      <td>733</td>\n",
              "    </tr>\n",
              "    <tr>\n",
              "      <th>2</th>\n",
              "      <td>2013</td>\n",
              "      <td>MEK Hussey</td>\n",
              "      <td>733</td>\n",
              "    </tr>\n",
              "    <tr>\n",
              "      <th>6</th>\n",
              "      <td>2014</td>\n",
              "      <td>RV Uthappa</td>\n",
              "      <td>660</td>\n",
              "    </tr>\n",
              "    <tr>\n",
              "      <th>17</th>\n",
              "      <td>2015</td>\n",
              "      <td>DA Warner</td>\n",
              "      <td>562</td>\n",
              "    </tr>\n",
              "    <tr>\n",
              "      <th>0</th>\n",
              "      <td>2016</td>\n",
              "      <td>V Kohli</td>\n",
              "      <td>973</td>\n",
              "    </tr>\n",
              "    <tr>\n",
              "      <th>7</th>\n",
              "      <td>2017</td>\n",
              "      <td>DA Warner</td>\n",
              "      <td>641</td>\n",
              "    </tr>\n",
              "  </tbody>\n",
              "</table>\n",
              "</div>\n",
              "      <button class=\"colab-df-convert\" onclick=\"convertToInteractive('df-5db66185-444c-4d5b-937e-10618b9e9a6d')\"\n",
              "              title=\"Convert this dataframe to an interactive table.\"\n",
              "              style=\"display:none;\">\n",
              "        \n",
              "  <svg xmlns=\"http://www.w3.org/2000/svg\" height=\"24px\"viewBox=\"0 0 24 24\"\n",
              "       width=\"24px\">\n",
              "    <path d=\"M0 0h24v24H0V0z\" fill=\"none\"/>\n",
              "    <path d=\"M18.56 5.44l.94 2.06.94-2.06 2.06-.94-2.06-.94-.94-2.06-.94 2.06-2.06.94zm-11 1L8.5 8.5l.94-2.06 2.06-.94-2.06-.94L8.5 2.5l-.94 2.06-2.06.94zm10 10l.94 2.06.94-2.06 2.06-.94-2.06-.94-.94-2.06-.94 2.06-2.06.94z\"/><path d=\"M17.41 7.96l-1.37-1.37c-.4-.4-.92-.59-1.43-.59-.52 0-1.04.2-1.43.59L10.3 9.45l-7.72 7.72c-.78.78-.78 2.05 0 2.83L4 21.41c.39.39.9.59 1.41.59.51 0 1.02-.2 1.41-.59l7.78-7.78 2.81-2.81c.8-.78.8-2.07 0-2.86zM5.41 20L4 18.59l7.72-7.72 1.47 1.35L5.41 20z\"/>\n",
              "  </svg>\n",
              "      </button>\n",
              "      \n",
              "  <style>\n",
              "    .colab-df-container {\n",
              "      display:flex;\n",
              "      flex-wrap:wrap;\n",
              "      gap: 12px;\n",
              "    }\n",
              "\n",
              "    .colab-df-convert {\n",
              "      background-color: #E8F0FE;\n",
              "      border: none;\n",
              "      border-radius: 50%;\n",
              "      cursor: pointer;\n",
              "      display: none;\n",
              "      fill: #1967D2;\n",
              "      height: 32px;\n",
              "      padding: 0 0 0 0;\n",
              "      width: 32px;\n",
              "    }\n",
              "\n",
              "    .colab-df-convert:hover {\n",
              "      background-color: #E2EBFA;\n",
              "      box-shadow: 0px 1px 2px rgba(60, 64, 67, 0.3), 0px 1px 3px 1px rgba(60, 64, 67, 0.15);\n",
              "      fill: #174EA6;\n",
              "    }\n",
              "\n",
              "    [theme=dark] .colab-df-convert {\n",
              "      background-color: #3B4455;\n",
              "      fill: #D2E3FC;\n",
              "    }\n",
              "\n",
              "    [theme=dark] .colab-df-convert:hover {\n",
              "      background-color: #434B5C;\n",
              "      box-shadow: 0px 1px 3px 1px rgba(0, 0, 0, 0.15);\n",
              "      filter: drop-shadow(0px 1px 2px rgba(0, 0, 0, 0.3));\n",
              "      fill: #FFFFFF;\n",
              "    }\n",
              "  </style>\n",
              "\n",
              "      <script>\n",
              "        const buttonEl =\n",
              "          document.querySelector('#df-5db66185-444c-4d5b-937e-10618b9e9a6d button.colab-df-convert');\n",
              "        buttonEl.style.display =\n",
              "          google.colab.kernel.accessAllowed ? 'block' : 'none';\n",
              "\n",
              "        async function convertToInteractive(key) {\n",
              "          const element = document.querySelector('#df-5db66185-444c-4d5b-937e-10618b9e9a6d');\n",
              "          const dataTable =\n",
              "            await google.colab.kernel.invokeFunction('convertToInteractive',\n",
              "                                                     [key], {});\n",
              "          if (!dataTable) return;\n",
              "\n",
              "          const docLinkHtml = 'Like what you see? Visit the ' +\n",
              "            '<a target=\"_blank\" href=https://colab.research.google.com/notebooks/data_table.ipynb>data table notebook</a>'\n",
              "            + ' to learn more about interactive tables.';\n",
              "          element.innerHTML = '';\n",
              "          dataTable['output_type'] = 'display_data';\n",
              "          await google.colab.output.renderOutput(dataTable, element);\n",
              "          const docLink = document.createElement('div');\n",
              "          docLink.innerHTML = docLinkHtml;\n",
              "          element.appendChild(docLink);\n",
              "        }\n",
              "      </script>\n",
              "    </div>\n",
              "  </div>\n",
              "  "
            ]
          },
          "metadata": {},
          "execution_count": 29
        }
      ]
    },
    {
      "cell_type": "code",
      "source": [
        "# Consider a string s=\"Python is fun\". What will be the output of the statement print(s.partition('on')) ?\n",
        "s=\"Python is fun\"\n",
        "print(s.partition('on'))"
      ],
      "metadata": {
        "id": "_jxOimVdTOM_",
        "colab": {
          "base_uri": "https://localhost:8080/"
        },
        "outputId": "26657bf7-cb9e-4198-f04c-6746be00db6c"
      },
      "execution_count": null,
      "outputs": [
        {
          "output_type": "stream",
          "name": "stdout",
          "text": [
            "('Pyth', 'on', ' is fun')\n"
          ]
        }
      ]
    },
    {
      "cell_type": "code",
      "source": [],
      "metadata": {
        "id": "mX2DpqFWy9Ej"
      },
      "execution_count": null,
      "outputs": []
    }
  ]
}